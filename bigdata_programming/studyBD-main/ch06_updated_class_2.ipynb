{
 "cells": [
  {
   "cell_type": "markdown",
   "metadata": {},
   "source": [
    "# 6장 데이터 로딩과 저장, 파일 형식"
   ]
  },
  {
   "cell_type": "code",
   "execution_count": 3,
   "metadata": {},
   "outputs": [
    {
     "name": "stdout",
     "output_type": "stream",
     "text": [
      "Collecting selenium\n",
      "  Obtaining dependency information for selenium from https://files.pythonhosted.org/packages/b4/f9/e9ac5e4c5d84b07c7d117d67b2c84be221bcb9e62ff31fd0a1bbc06099c0/selenium-4.19.0-py3-none-any.whl.metadata\n",
      "  Downloading selenium-4.19.0-py3-none-any.whl.metadata (6.9 kB)\n",
      "Requirement already satisfied: urllib3[socks]<3,>=1.26 in c:\\users\\moon\\appdata\\local\\programs\\python\\python311\\lib\\site-packages (from selenium) (2.0.4)\n",
      "Collecting trio~=0.17 (from selenium)\n",
      "  Obtaining dependency information for trio~=0.17 from https://files.pythonhosted.org/packages/17/c9/f86f89f14d52f9f2f652ce24cb2f60141a51d087db1563f3fba94ba07346/trio-0.25.0-py3-none-any.whl.metadata\n",
      "  Downloading trio-0.25.0-py3-none-any.whl.metadata (8.7 kB)\n",
      "Collecting trio-websocket~=0.9 (from selenium)\n",
      "  Obtaining dependency information for trio-websocket~=0.9 from https://files.pythonhosted.org/packages/48/be/a9ae5f50cad5b6f85bd2574c2c923730098530096e170c1ce7452394d7aa/trio_websocket-0.11.1-py3-none-any.whl.metadata\n",
      "  Downloading trio_websocket-0.11.1-py3-none-any.whl.metadata (4.7 kB)\n",
      "Requirement already satisfied: certifi>=2021.10.8 in c:\\users\\moon\\appdata\\local\\programs\\python\\python311\\lib\\site-packages (from selenium) (2023.7.22)\n",
      "Requirement already satisfied: typing_extensions>=4.9.0 in c:\\users\\moon\\appdata\\local\\programs\\python\\python311\\lib\\site-packages (from selenium) (4.10.0)\n",
      "Collecting attrs>=23.2.0 (from trio~=0.17->selenium)\n",
      "  Obtaining dependency information for attrs>=23.2.0 from https://files.pythonhosted.org/packages/e0/44/827b2a91a5816512fcaf3cc4ebc465ccd5d598c45cefa6703fcf4a79018f/attrs-23.2.0-py3-none-any.whl.metadata\n",
      "  Downloading attrs-23.2.0-py3-none-any.whl.metadata (9.5 kB)\n",
      "Collecting sortedcontainers (from trio~=0.17->selenium)\n",
      "  Obtaining dependency information for sortedcontainers from https://files.pythonhosted.org/packages/32/46/9cb0e58b2deb7f82b84065f37f3bffeb12413f947f9388e4cac22c4621ce/sortedcontainers-2.4.0-py2.py3-none-any.whl.metadata\n",
      "  Downloading sortedcontainers-2.4.0-py2.py3-none-any.whl.metadata (10 kB)\n",
      "Requirement already satisfied: idna in c:\\users\\moon\\appdata\\local\\programs\\python\\python311\\lib\\site-packages (from trio~=0.17->selenium) (3.4)\n",
      "Collecting outcome (from trio~=0.17->selenium)\n",
      "  Obtaining dependency information for outcome from https://files.pythonhosted.org/packages/55/8b/5ab7257531a5d830fc8000c476e63c935488d74609b50f9384a643ec0a62/outcome-1.3.0.post0-py2.py3-none-any.whl.metadata\n",
      "  Downloading outcome-1.3.0.post0-py2.py3-none-any.whl.metadata (2.6 kB)\n",
      "Requirement already satisfied: sniffio>=1.3.0 in c:\\users\\moon\\appdata\\local\\programs\\python\\python311\\lib\\site-packages (from trio~=0.17->selenium) (1.3.0)\n",
      "Requirement already satisfied: cffi>=1.14 in c:\\users\\moon\\appdata\\local\\programs\\python\\python311\\lib\\site-packages (from trio~=0.17->selenium) (1.15.1)\n",
      "Collecting wsproto>=0.14 (from trio-websocket~=0.9->selenium)\n",
      "  Obtaining dependency information for wsproto>=0.14 from https://files.pythonhosted.org/packages/78/58/e860788190eba3bcce367f74d29c4675466ce8dddfba85f7827588416f01/wsproto-1.2.0-py3-none-any.whl.metadata\n",
      "  Downloading wsproto-1.2.0-py3-none-any.whl.metadata (5.6 kB)\n",
      "Collecting pysocks!=1.5.7,<2.0,>=1.5.6 (from urllib3[socks]<3,>=1.26->selenium)\n",
      "  Obtaining dependency information for pysocks!=1.5.7,<2.0,>=1.5.6 from https://files.pythonhosted.org/packages/8d/59/b4572118e098ac8e46e399a1dd0f2d85403ce8bbaad9ec79373ed6badaf9/PySocks-1.7.1-py3-none-any.whl.metadata\n",
      "  Downloading PySocks-1.7.1-py3-none-any.whl.metadata (13 kB)\n",
      "Requirement already satisfied: pycparser in c:\\users\\moon\\appdata\\local\\programs\\python\\python311\\lib\\site-packages (from cffi>=1.14->trio~=0.17->selenium) (2.21)\n",
      "Collecting h11<1,>=0.9.0 (from wsproto>=0.14->trio-websocket~=0.9->selenium)\n",
      "  Obtaining dependency information for h11<1,>=0.9.0 from https://files.pythonhosted.org/packages/95/04/ff642e65ad6b90db43e668d70ffb6736436c7ce41fcc549f4e9472234127/h11-0.14.0-py3-none-any.whl.metadata\n",
      "  Downloading h11-0.14.0-py3-none-any.whl.metadata (8.2 kB)\n",
      "Downloading selenium-4.19.0-py3-none-any.whl (10.5 MB)\n",
      "   ---------------------------------------- 0.0/10.5 MB ? eta -:--:--\n",
      "   - -------------------------------------- 0.4/10.5 MB 11.5 MB/s eta 0:00:01\n",
      "   --- ------------------------------------ 1.0/10.5 MB 11.0 MB/s eta 0:00:01\n",
      "   ------- -------------------------------- 1.9/10.5 MB 15.3 MB/s eta 0:00:01\n",
      "   ---------- ----------------------------- 2.8/10.5 MB 16.4 MB/s eta 0:00:01\n",
      "   --------------- ------------------------ 4.1/10.5 MB 18.5 MB/s eta 0:00:01\n",
      "   ------------------ --------------------- 5.0/10.5 MB 18.6 MB/s eta 0:00:01\n",
      "   ---------------------- ----------------- 5.8/10.5 MB 18.5 MB/s eta 0:00:01\n",
      "   ---------------------------- ----------- 7.4/10.5 MB 19.8 MB/s eta 0:00:01\n",
      "   --------------------------------- ------ 8.8/10.5 MB 20.9 MB/s eta 0:00:01\n",
      "   ----------------------------------- ---- 9.4/10.5 MB 20.6 MB/s eta 0:00:01\n",
      "   ------------------------------------ --- 9.6/10.5 MB 19.2 MB/s eta 0:00:01\n",
      "   ------------------------------------ --- 9.6/10.5 MB 19.2 MB/s eta 0:00:01\n",
      "   ---------------------------------------  10.3/10.5 MB 17.7 MB/s eta 0:00:01\n",
      "   ---------------------------------------  10.5/10.5 MB 17.3 MB/s eta 0:00:01\n",
      "   ---------------------------------------- 10.5/10.5 MB 16.4 MB/s eta 0:00:00\n",
      "Downloading trio-0.25.0-py3-none-any.whl (467 kB)\n",
      "   ---------------------------------------- 0.0/467.2 kB ? eta -:--:--\n",
      "   ---------------------------------------- 467.2/467.2 kB 9.7 MB/s eta 0:00:00\n",
      "Downloading trio_websocket-0.11.1-py3-none-any.whl (17 kB)\n",
      "Downloading attrs-23.2.0-py3-none-any.whl (60 kB)\n",
      "   ---------------------------------------- 0.0/60.8 kB ? eta -:--:--\n",
      "   ---------------------------------------- 60.8/60.8 kB ? eta 0:00:00\n",
      "Downloading PySocks-1.7.1-py3-none-any.whl (16 kB)\n",
      "Downloading wsproto-1.2.0-py3-none-any.whl (24 kB)\n",
      "Downloading outcome-1.3.0.post0-py2.py3-none-any.whl (10 kB)\n",
      "Downloading sortedcontainers-2.4.0-py2.py3-none-any.whl (29 kB)\n",
      "Downloading h11-0.14.0-py3-none-any.whl (58 kB)\n",
      "   ---------------------------------------- 0.0/58.3 kB ? eta -:--:--\n",
      "   ---------------------------------------- 58.3/58.3 kB ? eta 0:00:00\n",
      "Installing collected packages: sortedcontainers, pysocks, h11, attrs, wsproto, outcome, trio, trio-websocket, selenium\n",
      "  Attempting uninstall: attrs\n",
      "    Found existing installation: attrs 23.1.0\n",
      "    Uninstalling attrs-23.1.0:\n",
      "      Successfully uninstalled attrs-23.1.0\n",
      "Successfully installed attrs-23.2.0 h11-0.14.0 outcome-1.3.0.post0 pysocks-1.7.1 selenium-4.19.0 sortedcontainers-2.4.0 trio-0.25.0 trio-websocket-0.11.1 wsproto-1.2.0\n"
     ]
    },
    {
     "name": "stderr",
     "output_type": "stream",
     "text": [
      "\n",
      "[notice] A new release of pip is available: 23.2.1 -> 24.0\n",
      "[notice] To update, run: python.exe -m pip install --upgrade pip\n"
     ]
    }
   ],
   "source": [
    "import numpy as np\n",
    "import pandas as pd\n",
    "np.random.seed(12345)\n",
    "import matplotlib.pyplot as plt\n",
    "plt.rc(\"figure\", figsize=(10, 6))\n",
    "pd.options.display.max_colwidth = 75\n",
    "pd.options.display.max_columns = 20\n",
    "np.set_printoptions(precision=4, suppress=True)\n",
    "plt.rcParams[\"font.family\"] = 'Malgun Gothic'"
   ]
  },
  {
   "cell_type": "markdown",
   "metadata": {},
   "source": [
    "# 1. csv 텍스트 데이터\n",
    "## 1.1 csv파일 읽기\n",
    "* 판다스에서 CSV 파일을 읽기: pd.read_csv(path, encoding = 'utf-8') 함수를 사용\n",
    "    * path 인수 : 파일시스템에서의 위치, URL, 파일객체를 나타내는 문자열\n",
    "    * encoding 인수 - 유니코드 인코딩 종류을 지정\n"
   ]
  },
  {
   "cell_type": "markdown",
   "metadata": {},
   "source": [
    "    1) header(컬럼명)가 있는 파일"
   ]
  },
  {
   "cell_type": "code",
   "execution_count": 3,
   "metadata": {},
   "outputs": [
    {
     "name": "stdout",
     "output_type": "stream",
     "text": [
      "a,b,c,d,message\n",
      "1,2,3,4,hello\n",
      "5,6,7,8,world\n",
      "9,10,11,12,foo\n"
     ]
    },
    {
     "data": {
      "text/html": [
       "<div>\n",
       "<style scoped>\n",
       "    .dataframe tbody tr th:only-of-type {\n",
       "        vertical-align: middle;\n",
       "    }\n",
       "\n",
       "    .dataframe tbody tr th {\n",
       "        vertical-align: top;\n",
       "    }\n",
       "\n",
       "    .dataframe thead th {\n",
       "        text-align: right;\n",
       "    }\n",
       "</style>\n",
       "<table border=\"1\" class=\"dataframe\">\n",
       "  <thead>\n",
       "    <tr style=\"text-align: right;\">\n",
       "      <th></th>\n",
       "      <th>a</th>\n",
       "      <th>b</th>\n",
       "      <th>c</th>\n",
       "      <th>d</th>\n",
       "      <th>message</th>\n",
       "    </tr>\n",
       "  </thead>\n",
       "  <tbody>\n",
       "    <tr>\n",
       "      <th>0</th>\n",
       "      <td>1</td>\n",
       "      <td>2</td>\n",
       "      <td>3</td>\n",
       "      <td>4</td>\n",
       "      <td>hello</td>\n",
       "    </tr>\n",
       "    <tr>\n",
       "      <th>1</th>\n",
       "      <td>5</td>\n",
       "      <td>6</td>\n",
       "      <td>7</td>\n",
       "      <td>8</td>\n",
       "      <td>world</td>\n",
       "    </tr>\n",
       "    <tr>\n",
       "      <th>2</th>\n",
       "      <td>9</td>\n",
       "      <td>10</td>\n",
       "      <td>11</td>\n",
       "      <td>12</td>\n",
       "      <td>foo</td>\n",
       "    </tr>\n",
       "  </tbody>\n",
       "</table>\n",
       "</div>"
      ],
      "text/plain": [
       "   a   b   c   d message\n",
       "0  1   2   3   4   hello\n",
       "1  5   6   7   8   world\n",
       "2  9  10  11  12     foo"
      ]
     },
     "execution_count": 3,
     "metadata": {},
     "output_type": "execute_result"
    }
   ],
   "source": [
    "!cat examples/ex1.csv\n",
    "\n",
    "df = pd.read_csv(\"examples/ex1.csv\")\n",
    "df"
   ]
  },
  {
   "cell_type": "markdown",
   "metadata": {},
   "source": [
    "    2) header가 없는 파일 : 컬럼을 지정\n",
    "        * names 인수 - 열 이름 리스트\n",
    "        * header 인수 - 헤더가 없을 경우 None으로 지정"
   ]
  },
  {
   "cell_type": "code",
   "execution_count": 4,
   "metadata": {},
   "outputs": [
    {
     "data": {
      "text/html": [
       "<div>\n",
       "<style scoped>\n",
       "    .dataframe tbody tr th:only-of-type {\n",
       "        vertical-align: middle;\n",
       "    }\n",
       "\n",
       "    .dataframe tbody tr th {\n",
       "        vertical-align: top;\n",
       "    }\n",
       "\n",
       "    .dataframe thead th {\n",
       "        text-align: right;\n",
       "    }\n",
       "</style>\n",
       "<table border=\"1\" class=\"dataframe\">\n",
       "  <thead>\n",
       "    <tr style=\"text-align: right;\">\n",
       "      <th></th>\n",
       "      <th>a</th>\n",
       "      <th>b</th>\n",
       "      <th>c</th>\n",
       "      <th>d</th>\n",
       "      <th>message</th>\n",
       "    </tr>\n",
       "  </thead>\n",
       "  <tbody>\n",
       "    <tr>\n",
       "      <th>0</th>\n",
       "      <td>1</td>\n",
       "      <td>2</td>\n",
       "      <td>3</td>\n",
       "      <td>4</td>\n",
       "      <td>hello</td>\n",
       "    </tr>\n",
       "    <tr>\n",
       "      <th>1</th>\n",
       "      <td>5</td>\n",
       "      <td>6</td>\n",
       "      <td>7</td>\n",
       "      <td>8</td>\n",
       "      <td>world</td>\n",
       "    </tr>\n",
       "    <tr>\n",
       "      <th>2</th>\n",
       "      <td>9</td>\n",
       "      <td>10</td>\n",
       "      <td>11</td>\n",
       "      <td>12</td>\n",
       "      <td>foo</td>\n",
       "    </tr>\n",
       "  </tbody>\n",
       "</table>\n",
       "</div>"
      ],
      "text/plain": [
       "   a   b   c   d message\n",
       "0  1   2   3   4   hello\n",
       "1  5   6   7   8   world\n",
       "2  9  10  11  12     foo"
      ]
     },
     "execution_count": 4,
     "metadata": {},
     "output_type": "execute_result"
    }
   ],
   "source": [
    "pd.read_csv(\"examples/ex2.csv\")\n",
    "\n",
    "names = [\"a\", \"b\", \"c\", \"d\", \"message\"]\n",
    "pd.read_csv(\"examples/ex2.csv\", names=names)"
   ]
  },
  {
   "cell_type": "markdown",
   "metadata": {},
   "source": [
    "    3) 계층적 색인 지정하기\n",
    "        * index_col 인수 - 색인으로 사용할 열 번호나 이름, 계층적 색인을 지정할 경우 리스트"
   ]
  },
  {
   "cell_type": "code",
   "execution_count": 5,
   "metadata": {},
   "outputs": [
    {
     "data": {
      "text/html": [
       "<div>\n",
       "<style scoped>\n",
       "    .dataframe tbody tr th:only-of-type {\n",
       "        vertical-align: middle;\n",
       "    }\n",
       "\n",
       "    .dataframe tbody tr th {\n",
       "        vertical-align: top;\n",
       "    }\n",
       "\n",
       "    .dataframe thead th {\n",
       "        text-align: right;\n",
       "    }\n",
       "</style>\n",
       "<table border=\"1\" class=\"dataframe\">\n",
       "  <thead>\n",
       "    <tr style=\"text-align: right;\">\n",
       "      <th></th>\n",
       "      <th></th>\n",
       "      <th>value1</th>\n",
       "      <th>value2</th>\n",
       "    </tr>\n",
       "    <tr>\n",
       "      <th>key1</th>\n",
       "      <th>key2</th>\n",
       "      <th></th>\n",
       "      <th></th>\n",
       "    </tr>\n",
       "  </thead>\n",
       "  <tbody>\n",
       "    <tr>\n",
       "      <th rowspan=\"4\" valign=\"top\">one</th>\n",
       "      <th>a</th>\n",
       "      <td>1</td>\n",
       "      <td>2</td>\n",
       "    </tr>\n",
       "    <tr>\n",
       "      <th>b</th>\n",
       "      <td>3</td>\n",
       "      <td>4</td>\n",
       "    </tr>\n",
       "    <tr>\n",
       "      <th>c</th>\n",
       "      <td>5</td>\n",
       "      <td>6</td>\n",
       "    </tr>\n",
       "    <tr>\n",
       "      <th>d</th>\n",
       "      <td>7</td>\n",
       "      <td>8</td>\n",
       "    </tr>\n",
       "    <tr>\n",
       "      <th rowspan=\"4\" valign=\"top\">two</th>\n",
       "      <th>a</th>\n",
       "      <td>9</td>\n",
       "      <td>10</td>\n",
       "    </tr>\n",
       "    <tr>\n",
       "      <th>b</th>\n",
       "      <td>11</td>\n",
       "      <td>12</td>\n",
       "    </tr>\n",
       "    <tr>\n",
       "      <th>c</th>\n",
       "      <td>13</td>\n",
       "      <td>14</td>\n",
       "    </tr>\n",
       "    <tr>\n",
       "      <th>d</th>\n",
       "      <td>15</td>\n",
       "      <td>16</td>\n",
       "    </tr>\n",
       "  </tbody>\n",
       "</table>\n",
       "</div>"
      ],
      "text/plain": [
       "           value1  value2\n",
       "key1 key2                \n",
       "one  a          1       2\n",
       "     b          3       4\n",
       "     c          5       6\n",
       "     d          7       8\n",
       "two  a          9      10\n",
       "     b         11      12\n",
       "     c         13      14\n",
       "     d         15      16"
      ]
     },
     "execution_count": 5,
     "metadata": {},
     "output_type": "execute_result"
    }
   ],
   "source": [
    "parsed = pd.read_csv(\"examples/csv_mindex.csv\",\n",
    "                     index_col=[\"key1\", \"key2\"])\n",
    "parsed"
   ]
  },
  {
   "cell_type": "markdown",
   "metadata": {},
   "source": [
    "    4) 여러 개의 공백으로 필드를 구분한 파일 \n",
    "        * sep 인수 - 필드을 구분하기 위해 사용할 정규 표현식"
   ]
  },
  {
   "cell_type": "code",
   "execution_count": 6,
   "metadata": {},
   "outputs": [
    {
     "data": {
      "text/html": [
       "<div>\n",
       "<style scoped>\n",
       "    .dataframe tbody tr th:only-of-type {\n",
       "        vertical-align: middle;\n",
       "    }\n",
       "\n",
       "    .dataframe tbody tr th {\n",
       "        vertical-align: top;\n",
       "    }\n",
       "\n",
       "    .dataframe thead th {\n",
       "        text-align: right;\n",
       "    }\n",
       "</style>\n",
       "<table border=\"1\" class=\"dataframe\">\n",
       "  <thead>\n",
       "    <tr style=\"text-align: right;\">\n",
       "      <th></th>\n",
       "      <th>A</th>\n",
       "      <th>B</th>\n",
       "      <th>C</th>\n",
       "    </tr>\n",
       "  </thead>\n",
       "  <tbody>\n",
       "    <tr>\n",
       "      <th>aaa</th>\n",
       "      <td>-0.264438</td>\n",
       "      <td>-1.026059</td>\n",
       "      <td>-0.619500</td>\n",
       "    </tr>\n",
       "    <tr>\n",
       "      <th>bbb</th>\n",
       "      <td>0.927272</td>\n",
       "      <td>0.302904</td>\n",
       "      <td>-0.032399</td>\n",
       "    </tr>\n",
       "    <tr>\n",
       "      <th>ccc</th>\n",
       "      <td>-0.264273</td>\n",
       "      <td>-0.386314</td>\n",
       "      <td>-0.217601</td>\n",
       "    </tr>\n",
       "    <tr>\n",
       "      <th>ddd</th>\n",
       "      <td>-0.871858</td>\n",
       "      <td>-0.348382</td>\n",
       "      <td>1.100491</td>\n",
       "    </tr>\n",
       "  </tbody>\n",
       "</table>\n",
       "</div>"
      ],
      "text/plain": [
       "            A         B         C\n",
       "aaa -0.264438 -1.026059 -0.619500\n",
       "bbb  0.927272  0.302904 -0.032399\n",
       "ccc -0.264273 -0.386314 -0.217601\n",
       "ddd -0.871858 -0.348382  1.100491"
      ]
     },
     "execution_count": 6,
     "metadata": {},
     "output_type": "execute_result"
    }
   ],
   "source": [
    "result = pd.read_csv(\"examples/ex3.txt\", sep=\"\\s+\")\n",
    "result"
   ]
  },
  {
   "cell_type": "markdown",
   "metadata": {},
   "source": [
    "    5) 주석을 갖고 있는 파일\n",
    "        * skiprows 인수 - 파일의 시작부터 무시할 행 수 또는 무시할 행 번호가 담긴 리스트"
   ]
  },
  {
   "cell_type": "code",
   "execution_count": 7,
   "metadata": {},
   "outputs": [
    {
     "data": {
      "text/html": [
       "<div>\n",
       "<style scoped>\n",
       "    .dataframe tbody tr th:only-of-type {\n",
       "        vertical-align: middle;\n",
       "    }\n",
       "\n",
       "    .dataframe tbody tr th {\n",
       "        vertical-align: top;\n",
       "    }\n",
       "\n",
       "    .dataframe thead th {\n",
       "        text-align: right;\n",
       "    }\n",
       "</style>\n",
       "<table border=\"1\" class=\"dataframe\">\n",
       "  <thead>\n",
       "    <tr style=\"text-align: right;\">\n",
       "      <th></th>\n",
       "      <th>a</th>\n",
       "      <th>b</th>\n",
       "      <th>c</th>\n",
       "      <th>d</th>\n",
       "      <th>message</th>\n",
       "    </tr>\n",
       "  </thead>\n",
       "  <tbody>\n",
       "    <tr>\n",
       "      <th>0</th>\n",
       "      <td>1</td>\n",
       "      <td>2</td>\n",
       "      <td>3</td>\n",
       "      <td>4</td>\n",
       "      <td>hello</td>\n",
       "    </tr>\n",
       "    <tr>\n",
       "      <th>1</th>\n",
       "      <td>5</td>\n",
       "      <td>6</td>\n",
       "      <td>7</td>\n",
       "      <td>8</td>\n",
       "      <td>world</td>\n",
       "    </tr>\n",
       "    <tr>\n",
       "      <th>2</th>\n",
       "      <td>9</td>\n",
       "      <td>10</td>\n",
       "      <td>11</td>\n",
       "      <td>12</td>\n",
       "      <td>foo</td>\n",
       "    </tr>\n",
       "  </tbody>\n",
       "</table>\n",
       "</div>"
      ],
      "text/plain": [
       "   a   b   c   d message\n",
       "0  1   2   3   4   hello\n",
       "1  5   6   7   8   world\n",
       "2  9  10  11  12     foo"
      ]
     },
     "execution_count": 7,
     "metadata": {},
     "output_type": "execute_result"
    }
   ],
   "source": [
    "pd.read_csv(\"examples/ex4.csv\", skiprows=[0, 2, 3])"
   ]
  },
  {
   "cell_type": "markdown",
   "metadata": {},
   "source": [
    "    6) 누락된 값이 있는 파일 : 비어 있는 문자열, NA, NULL을 NaN으로 출력 \n",
    "        * na_values 인수 - NA 값으로 처리할 값들의 목록"
   ]
  },
  {
   "cell_type": "code",
   "execution_count": 22,
   "metadata": {},
   "outputs": [
    {
     "name": "stdout",
     "output_type": "stream",
     "text": [
      "  something  a   b     c   d message\n",
      "0       one  1   2   3.0   4     NaN\n",
      "1       NaN  5   6   NaN   8   world\n",
      "2     three  9  10  11.0  12     NaN\n"
     ]
    },
    {
     "data": {
      "text/html": [
       "<div>\n",
       "<style scoped>\n",
       "    .dataframe tbody tr th:only-of-type {\n",
       "        vertical-align: middle;\n",
       "    }\n",
       "\n",
       "    .dataframe tbody tr th {\n",
       "        vertical-align: top;\n",
       "    }\n",
       "\n",
       "    .dataframe thead th {\n",
       "        text-align: right;\n",
       "    }\n",
       "</style>\n",
       "<table border=\"1\" class=\"dataframe\">\n",
       "  <thead>\n",
       "    <tr style=\"text-align: right;\">\n",
       "      <th></th>\n",
       "      <th>something</th>\n",
       "      <th>a</th>\n",
       "      <th>b</th>\n",
       "      <th>c</th>\n",
       "      <th>d</th>\n",
       "      <th>message</th>\n",
       "    </tr>\n",
       "  </thead>\n",
       "  <tbody>\n",
       "    <tr>\n",
       "      <th>0</th>\n",
       "      <td>False</td>\n",
       "      <td>False</td>\n",
       "      <td>False</td>\n",
       "      <td>False</td>\n",
       "      <td>False</td>\n",
       "      <td>True</td>\n",
       "    </tr>\n",
       "    <tr>\n",
       "      <th>1</th>\n",
       "      <td>True</td>\n",
       "      <td>False</td>\n",
       "      <td>False</td>\n",
       "      <td>True</td>\n",
       "      <td>False</td>\n",
       "      <td>False</td>\n",
       "    </tr>\n",
       "    <tr>\n",
       "      <th>2</th>\n",
       "      <td>False</td>\n",
       "      <td>False</td>\n",
       "      <td>False</td>\n",
       "      <td>False</td>\n",
       "      <td>False</td>\n",
       "      <td>True</td>\n",
       "    </tr>\n",
       "  </tbody>\n",
       "</table>\n",
       "</div>"
      ],
      "text/plain": [
       "   something      a      b      c      d  message\n",
       "0      False  False  False  False  False     True\n",
       "1       True  False  False   True  False    False\n",
       "2      False  False  False  False  False     True"
      ]
     },
     "execution_count": 22,
     "metadata": {},
     "output_type": "execute_result"
    }
   ],
   "source": [
    "result = pd.read_csv(\"examples/ex5.csv\")\n",
    "result\n",
    "# 1) 누락된 값을 확인 : isna()함수 이용\n",
    "pd.isna(result)\n",
    "\n",
    "# 2) na_values -> 컬럼별 문자열 집합을 받아서 누락된 값 처리\n",
    "sentinels = {\"message\": [\"foo\", \"NA\"], \"something\": [\"two\"]}\n",
    "result = pd.read_csv(\"examples/ex5.csv\", na_values=sentinels)\n",
    "print(result)\n",
    "result.isna()"
   ]
  },
  {
   "cell_type": "markdown",
   "metadata": {},
   "source": [
    "    7) 텍스트 파일 조금씩 \n",
    "        * nrows 인수 - 파일의 첫 일부만 읽어올 때 처음 몇 줄을 읽을 것인지 지정 \n",
    "        * chunksize 인수 - TextParser 객체에서 사용할 한 번에 익을 파일의 크기"
   ]
  },
  {
   "cell_type": "code",
   "execution_count": 9,
   "metadata": {
    "scrolled": true
   },
   "outputs": [
    {
     "data": {
      "text/html": [
       "<div>\n",
       "<style scoped>\n",
       "    .dataframe tbody tr th:only-of-type {\n",
       "        vertical-align: middle;\n",
       "    }\n",
       "\n",
       "    .dataframe tbody tr th {\n",
       "        vertical-align: top;\n",
       "    }\n",
       "\n",
       "    .dataframe thead th {\n",
       "        text-align: right;\n",
       "    }\n",
       "</style>\n",
       "<table border=\"1\" class=\"dataframe\">\n",
       "  <thead>\n",
       "    <tr style=\"text-align: right;\">\n",
       "      <th></th>\n",
       "      <th>one</th>\n",
       "      <th>two</th>\n",
       "      <th>three</th>\n",
       "      <th>four</th>\n",
       "      <th>key</th>\n",
       "    </tr>\n",
       "  </thead>\n",
       "  <tbody>\n",
       "    <tr>\n",
       "      <th>0</th>\n",
       "      <td>0.467976</td>\n",
       "      <td>-0.038649</td>\n",
       "      <td>-0.295344</td>\n",
       "      <td>-1.824726</td>\n",
       "      <td>L</td>\n",
       "    </tr>\n",
       "    <tr>\n",
       "      <th>1</th>\n",
       "      <td>-0.358893</td>\n",
       "      <td>1.404453</td>\n",
       "      <td>0.704965</td>\n",
       "      <td>-0.200638</td>\n",
       "      <td>B</td>\n",
       "    </tr>\n",
       "    <tr>\n",
       "      <th>2</th>\n",
       "      <td>-0.501840</td>\n",
       "      <td>0.659254</td>\n",
       "      <td>-0.421691</td>\n",
       "      <td>-0.057688</td>\n",
       "      <td>G</td>\n",
       "    </tr>\n",
       "    <tr>\n",
       "      <th>3</th>\n",
       "      <td>0.204886</td>\n",
       "      <td>1.074134</td>\n",
       "      <td>1.388361</td>\n",
       "      <td>-0.982404</td>\n",
       "      <td>R</td>\n",
       "    </tr>\n",
       "    <tr>\n",
       "      <th>4</th>\n",
       "      <td>0.354628</td>\n",
       "      <td>-0.133116</td>\n",
       "      <td>0.283763</td>\n",
       "      <td>-0.837063</td>\n",
       "      <td>Q</td>\n",
       "    </tr>\n",
       "  </tbody>\n",
       "</table>\n",
       "</div>"
      ],
      "text/plain": [
       "        one       two     three      four key\n",
       "0  0.467976 -0.038649 -0.295344 -1.824726   L\n",
       "1 -0.358893  1.404453  0.704965 -0.200638   B\n",
       "2 -0.501840  0.659254 -0.421691 -0.057688   G\n",
       "3  0.204886  1.074134  1.388361 -0.982404   R\n",
       "4  0.354628 -0.133116  0.283763 -0.837063   Q"
      ]
     },
     "execution_count": 9,
     "metadata": {},
     "output_type": "execute_result"
    }
   ],
   "source": [
    "#pd.options.display.max_rows = 10\n",
    "result = pd.read_csv(\"examples/ex6.csv\")\n",
    "\n",
    "result = pd.read_csv(\"examples/ex6.csv\", nrows=5)\n",
    "result"
   ]
  },
  {
   "cell_type": "markdown",
   "metadata": {},
   "source": [
    "### [예제]  ex6.csv 파일을 순회하면서 \"key\"열의 값을 세기"
   ]
  },
  {
   "cell_type": "code",
   "execution_count": 12,
   "metadata": {},
   "outputs": [
    {
     "data": {
      "text/plain": [
       "key\n",
       "E    368.0\n",
       "X    364.0\n",
       "L    346.0\n",
       "O    343.0\n",
       "Q    340.0\n",
       "M    338.0\n",
       "J    337.0\n",
       "F    335.0\n",
       "K    334.0\n",
       "H    330.0\n",
       "dtype: float64"
      ]
     },
     "execution_count": 12,
     "metadata": {},
     "output_type": "execute_result"
    }
   ],
   "source": [
    "chunker = pd.read_csv(\"examples/ex6.csv\", chunksize=1000)\n",
    "\n",
    "tot = pd.Series([], dtype='int64')\n",
    "for piece in chunker:\n",
    "    tot = tot.add(piece[\"key\"].value_counts(), fill_value=0)\n",
    "\n",
    "tot = tot.sort_values(ascending=False)\n",
    "tot\n",
    "tot[:10]"
   ]
  },
  {
   "cell_type": "markdown",
   "metadata": {},
   "source": [
    "## 1.2. csv 텍스트 파일 저장하기\n",
    "* 판다스에서 CSV 파일을 저장하기: df.to_csv(path, encoding = 'utf-8') 함수를 사용\n",
    "    * path 인수 : 파일시스템에서의 위치, URL, 파일객체를 나타내는 문자열\n",
    "    * encoding 인수 - 유니코드 인코딩 종류을 지정\n"
   ]
  },
  {
   "cell_type": "code",
   "execution_count": 23,
   "metadata": {},
   "outputs": [
    {
     "data": {
      "text/html": [
       "<div>\n",
       "<style scoped>\n",
       "    .dataframe tbody tr th:only-of-type {\n",
       "        vertical-align: middle;\n",
       "    }\n",
       "\n",
       "    .dataframe tbody tr th {\n",
       "        vertical-align: top;\n",
       "    }\n",
       "\n",
       "    .dataframe thead th {\n",
       "        text-align: right;\n",
       "    }\n",
       "</style>\n",
       "<table border=\"1\" class=\"dataframe\">\n",
       "  <thead>\n",
       "    <tr style=\"text-align: right;\">\n",
       "      <th></th>\n",
       "      <th>a</th>\n",
       "      <th>b</th>\n",
       "      <th>d</th>\n",
       "    </tr>\n",
       "  </thead>\n",
       "  <tbody>\n",
       "    <tr>\n",
       "      <th>0</th>\n",
       "      <td>1</td>\n",
       "      <td>2</td>\n",
       "      <td>4</td>\n",
       "    </tr>\n",
       "    <tr>\n",
       "      <th>1</th>\n",
       "      <td>5</td>\n",
       "      <td>6</td>\n",
       "      <td>8</td>\n",
       "    </tr>\n",
       "    <tr>\n",
       "      <th>2</th>\n",
       "      <td>9</td>\n",
       "      <td>10</td>\n",
       "      <td>12</td>\n",
       "    </tr>\n",
       "  </tbody>\n",
       "</table>\n",
       "</div>"
      ],
      "text/plain": [
       "   a   b   d\n",
       "0  1   2   4\n",
       "1  5   6   8\n",
       "2  9  10  12"
      ]
     },
     "execution_count": 23,
     "metadata": {},
     "output_type": "execute_result"
    }
   ],
   "source": [
    "data = pd.read_csv(\"examples/ex5.csv\")\n",
    "data1 = data[['a','b','d']]\n",
    "data1\n"
   ]
  },
  {
   "cell_type": "code",
   "execution_count": 24,
   "metadata": {},
   "outputs": [
    {
     "name": "stdout",
     "output_type": "stream",
     "text": [
      ",a,b,d\n",
      "0,1,2,4\n",
      "1,5,6,8\n",
      "2,9,10,12\n"
     ]
    }
   ],
   "source": [
    "data1.to_csv(\"examples/out.csv\")\n",
    "!cat examples/out.csv"
   ]
  },
  {
   "cell_type": "code",
   "execution_count": 25,
   "metadata": {},
   "outputs": [
    {
     "name": "stdout",
     "output_type": "stream",
     "text": [
      "a,b,c\n",
      "1,2,3.0\n",
      "5,6,\n",
      "9,10,11.0\n"
     ]
    }
   ],
   "source": [
    "data.to_csv(\"examples/out.csv\", sep=\"|\") # 구분자 사용\n",
    "data.to_csv(\"examples/out.csv\", na_rep = \"NULL\") #누락된 값을 원하는 값으로 지정\n",
    "data.to_csv(\"examples/out.csv\", index=False, header=False)\n",
    "data.to_csv(\"examples/out.csv\", index=False, columns=[\"a\", \"b\", \"c\"])\n",
    "\n",
    "!cat examples/out.csv\n"
   ]
  },
  {
   "cell_type": "markdown",
   "metadata": {},
   "source": [
    "# 2. JSON  데이터\n",
    "* JSON(JavaScript Object Notation)은 텍스트 데이터를 저장하고 전송하기 위한 일반적인 형식\n",
    "* 주로 웹에서 데이터를 전송하거나 저장하는 데 사용\n",
    "* JSON 파일은 일반적으로 텍스트 형식으로 작성되며, 사람과 기계 모두 이해하기 쉽다.\n",
    "* JSON 파일은 키-값 쌍의 모음으로 구성\n",
    "  * 키-값 쌍은 객체(object)라고도 하며, 중괄호 {} 로 묶는다.\n",
    "  * 배열(array)은 대괄호 [] 안에 값의 목록을 나열하여 정의."
   ]
  },
  {
   "cell_type": "markdown",
   "metadata": {},
   "source": [
    "## 2.1 JSON 데이터 읽기/저장\n",
    "    * pandas의 to_json() -> 데이터프레임을 JSON 파일로 저\n",
    "    * read_json() -> JSON 파일에서 데이터프레임을 읽어오기"
   ]
  },
  {
   "cell_type": "markdown",
   "metadata": {},
   "source": [
    "### [예제]  pandas의 to_json() 및 read_json() 메서드를 사용하여 데이터프레임을 JSON 파일로 저장하고 읽기"
   ]
  },
  {
   "cell_type": "code",
   "execution_count": 27,
   "metadata": {},
   "outputs": [
    {
     "name": "stdout",
     "output_type": "stream",
     "text": [
      "Original DataFrame:\n",
      "    name  age         city\n",
      "0   John   30     New York\n",
      "1  Alice   25  Los Angeles\n",
      "2    Bob   35      Chicago\n",
      "\n",
      "DataFrame from JSON file:\n",
      "    name  age         city\n",
      "0   John   30     New York\n",
      "1  Alice   25  Los Angeles\n",
      "2    Bob   35      Chicago\n"
     ]
    }
   ],
   "source": [
    "# 1. pandas 라이브러리 임포트\n",
    "\n",
    "import pandas as pd\n",
    "\n",
    "# 2. JSON 파일로 저장할 데이터프레임 생성\n",
    "data = {\n",
    "    \"name\": [\"John\", \"Alice\", \"Bob\"],\n",
    "    \"age\": [30, 25, 35],\n",
    "    \"city\": [\"New York\", \"Los Angeles\", \"Chicago\"]\n",
    "}\n",
    "df = pd.DataFrame(data)\n",
    "\n",
    "# 3. 데이터프레임을 JSON 파일로 저장\n",
    "df.to_json(\"examples/data.json\")\n",
    "\n",
    "# JSON 파일을 읽어와 데이터프레임으로 변환\n",
    "df_read = pd.read_json(\"examples/data.json\")\n",
    "\n",
    "print(\"Original DataFrame:\")\n",
    "print(df)\n",
    "\n",
    "print(\"\\nDataFrame from JSON file:\")\n",
    "print(df_read)\n"
   ]
  },
  {
   "cell_type": "markdown",
   "metadata": {},
   "source": [
    "# 3. HTML 데이터\n",
    "## 3.1 웹 스크래핑 - read_html()"
   ]
  },
  {
   "attachments": {},
   "cell_type": "markdown",
   "metadata": {},
   "source": [
    "* read_html() - html 문서 내 테이블 데이터 읽어 테이블 구조의 모든 데이터를 데이터프레임으로 저장해서 반환\n",
    "    * https://www.fdic.gov/resources/resolutions/bank-failures/failed-bank-list/\n",
    "\n",
    "* 개발자 도구 사용 방법\n",
    "   * #s_content>div.section>ul>li:nth-child(1)>dl>dt>a"
   ]
  },
  {
   "cell_type": "markdown",
   "metadata": {},
   "source": [
    "#### [예제] 미국 예금 보험 공사에서 부도 은행을 보여주는 HTML 문서 읽어오기"
   ]
  },
  {
   "cell_type": "code",
   "execution_count": 5,
   "metadata": {},
   "outputs": [
    {
     "name": "stdout",
     "output_type": "stream",
     "text": [
      "<class 'list'>\n",
      "<class 'pandas.core.frame.DataFrame'>\n"
     ]
    },
    {
     "data": {
      "text/html": [
       "<div>\n",
       "<style scoped>\n",
       "    .dataframe tbody tr th:only-of-type {\n",
       "        vertical-align: middle;\n",
       "    }\n",
       "\n",
       "    .dataframe tbody tr th {\n",
       "        vertical-align: top;\n",
       "    }\n",
       "\n",
       "    .dataframe thead th {\n",
       "        text-align: right;\n",
       "    }\n",
       "</style>\n",
       "<table border=\"1\" class=\"dataframe\">\n",
       "  <thead>\n",
       "    <tr style=\"text-align: right;\">\n",
       "      <th></th>\n",
       "      <th>Bank NameBank</th>\n",
       "      <th>CityCity</th>\n",
       "      <th>StateSt</th>\n",
       "      <th>CertCert</th>\n",
       "      <th>Acquiring InstitutionAI</th>\n",
       "      <th>Closing DateClosing</th>\n",
       "      <th>FundFund</th>\n",
       "    </tr>\n",
       "  </thead>\n",
       "  <tbody>\n",
       "    <tr>\n",
       "      <th>0</th>\n",
       "      <td>Citizens Bank</td>\n",
       "      <td>Sac City</td>\n",
       "      <td>IA</td>\n",
       "      <td>8758</td>\n",
       "      <td>Iowa Trust &amp; Savings Bank</td>\n",
       "      <td>November 3, 2023</td>\n",
       "      <td>10545</td>\n",
       "    </tr>\n",
       "    <tr>\n",
       "      <th>1</th>\n",
       "      <td>Heartland Tri-State Bank</td>\n",
       "      <td>Elkhart</td>\n",
       "      <td>KS</td>\n",
       "      <td>25851</td>\n",
       "      <td>Dream First Bank, N.A.</td>\n",
       "      <td>July 28, 2023</td>\n",
       "      <td>10544</td>\n",
       "    </tr>\n",
       "    <tr>\n",
       "      <th>2</th>\n",
       "      <td>First Republic Bank</td>\n",
       "      <td>San Francisco</td>\n",
       "      <td>CA</td>\n",
       "      <td>59017</td>\n",
       "      <td>JPMorgan Chase Bank, N.A.</td>\n",
       "      <td>May 1, 2023</td>\n",
       "      <td>10543</td>\n",
       "    </tr>\n",
       "    <tr>\n",
       "      <th>3</th>\n",
       "      <td>Signature Bank</td>\n",
       "      <td>New York</td>\n",
       "      <td>NY</td>\n",
       "      <td>57053</td>\n",
       "      <td>Flagstar Bank, N.A.</td>\n",
       "      <td>March 12, 2023</td>\n",
       "      <td>10540</td>\n",
       "    </tr>\n",
       "    <tr>\n",
       "      <th>4</th>\n",
       "      <td>Silicon Valley Bank</td>\n",
       "      <td>Santa Clara</td>\n",
       "      <td>CA</td>\n",
       "      <td>24735</td>\n",
       "      <td>First–Citizens Bank &amp; Trust Company</td>\n",
       "      <td>March 10, 2023</td>\n",
       "      <td>10539</td>\n",
       "    </tr>\n",
       "  </tbody>\n",
       "</table>\n",
       "</div>"
      ],
      "text/plain": [
       "              Bank NameBank       CityCity StateSt  CertCert  \\\n",
       "0             Citizens Bank       Sac City      IA      8758   \n",
       "1  Heartland Tri-State Bank        Elkhart      KS     25851   \n",
       "2       First Republic Bank  San Francisco      CA     59017   \n",
       "3            Signature Bank       New York      NY     57053   \n",
       "4       Silicon Valley Bank    Santa Clara      CA     24735   \n",
       "\n",
       "               Acquiring InstitutionAI Closing DateClosing  FundFund  \n",
       "0            Iowa Trust & Savings Bank    November 3, 2023     10545  \n",
       "1               Dream First Bank, N.A.       July 28, 2023     10544  \n",
       "2            JPMorgan Chase Bank, N.A.         May 1, 2023     10543  \n",
       "3                  Flagstar Bank, N.A.      March 12, 2023     10540  \n",
       "4  First–Citizens Bank & Trust Company      March 10, 2023     10539  "
      ]
     },
     "execution_count": 5,
     "metadata": {},
     "output_type": "execute_result"
    }
   ],
   "source": [
    "import pandas as pd\n",
    "from pandas import Series, DataFrame\n",
    "\n",
    "#tables = pd.read_html(\"examples/fdic_failed_bank_list.html\") \n",
    "tables = pd.read_html(\"https://www.fdic.gov/resources/resolutions/bank-failures/failed-bank-list/\")\n",
    "len(tables)\n",
    "print(type(tables))\n",
    "failures = tables[0]\n",
    "print(type(failures))\n",
    "failures.head()"
   ]
  },
  {
   "cell_type": "code",
   "execution_count": 6,
   "metadata": {},
   "outputs": [
    {
     "data": {
      "text/html": [
       "<div>\n",
       "<style scoped>\n",
       "    .dataframe tbody tr th:only-of-type {\n",
       "        vertical-align: middle;\n",
       "    }\n",
       "\n",
       "    .dataframe tbody tr th {\n",
       "        vertical-align: top;\n",
       "    }\n",
       "\n",
       "    .dataframe thead th {\n",
       "        text-align: right;\n",
       "    }\n",
       "</style>\n",
       "<table border=\"1\" class=\"dataframe\">\n",
       "  <thead>\n",
       "    <tr style=\"text-align: right;\">\n",
       "      <th></th>\n",
       "      <th>BankNameBank</th>\n",
       "      <th>CityCity</th>\n",
       "      <th>StateSt</th>\n",
       "      <th>CertCert</th>\n",
       "      <th>AcquiringInstitutionAI</th>\n",
       "      <th>ClosingDate</th>\n",
       "      <th>FundFund</th>\n",
       "    </tr>\n",
       "  </thead>\n",
       "  <tbody>\n",
       "    <tr>\n",
       "      <th>0</th>\n",
       "      <td>Citizens Bank</td>\n",
       "      <td>Sac City</td>\n",
       "      <td>IA</td>\n",
       "      <td>8758</td>\n",
       "      <td>Iowa Trust &amp; Savings Bank</td>\n",
       "      <td>November 3, 2023</td>\n",
       "      <td>10545</td>\n",
       "    </tr>\n",
       "    <tr>\n",
       "      <th>1</th>\n",
       "      <td>Heartland Tri-State Bank</td>\n",
       "      <td>Elkhart</td>\n",
       "      <td>KS</td>\n",
       "      <td>25851</td>\n",
       "      <td>Dream First Bank, N.A.</td>\n",
       "      <td>July 28, 2023</td>\n",
       "      <td>10544</td>\n",
       "    </tr>\n",
       "    <tr>\n",
       "      <th>2</th>\n",
       "      <td>First Republic Bank</td>\n",
       "      <td>San Francisco</td>\n",
       "      <td>CA</td>\n",
       "      <td>59017</td>\n",
       "      <td>JPMorgan Chase Bank, N.A.</td>\n",
       "      <td>May 1, 2023</td>\n",
       "      <td>10543</td>\n",
       "    </tr>\n",
       "  </tbody>\n",
       "</table>\n",
       "</div>"
      ],
      "text/plain": [
       "               BankNameBank       CityCity StateSt  CertCert  \\\n",
       "0             Citizens Bank       Sac City      IA      8758   \n",
       "1  Heartland Tri-State Bank        Elkhart      KS     25851   \n",
       "2       First Republic Bank  San Francisco      CA     59017   \n",
       "\n",
       "      AcquiringInstitutionAI       ClosingDate  FundFund  \n",
       "0  Iowa Trust & Savings Bank  November 3, 2023     10545  \n",
       "1     Dream First Bank, N.A.     July 28, 2023     10544  \n",
       "2  JPMorgan Chase Bank, N.A.       May 1, 2023     10543  "
      ]
     },
     "execution_count": 6,
     "metadata": {},
     "output_type": "execute_result"
    }
   ],
   "source": [
    "# 1) 컬럼명 수정하기\n",
    "failures.columns\n",
    "failures.columns = ['BankNameBank', 'CityCity', 'StateSt', 'CertCert',\n",
    "       'AcquiringInstitutionAI', 'ClosingDate', 'FundFund']\n",
    "failures.head(3)"
   ]
  },
  {
   "cell_type": "code",
   "execution_count": 7,
   "metadata": {},
   "outputs": [
    {
     "data": {
      "text/plain": [
       "ClosingDate\n",
       "2010    157\n",
       "2009    140\n",
       "2011     92\n",
       "2012     51\n",
       "2008     25\n",
       "2013     24\n",
       "2014     18\n",
       "2002     11\n",
       "2017      8\n",
       "2015      8\n",
       "2023      5\n",
       "2016      5\n",
       "2020      4\n",
       "2004      4\n",
       "2019      4\n",
       "2001      4\n",
       "2007      3\n",
       "2003      3\n",
       "2000      2\n",
       "Name: count, dtype: int64"
      ]
     },
     "execution_count": 7,
     "metadata": {},
     "output_type": "execute_result"
    }
   ],
   "source": [
    "# 2) 데이터 변환 : 문자열 -> datetime\n",
    "close_timestamps = pd.to_datetime(failures[\"ClosingDate\"])\n",
    "close_timestamps\n",
    "#3) 년도별 데이터 개수 추출\n",
    "close_timestamps.dt.year.value_counts()"
   ]
  },
  {
   "cell_type": "markdown",
   "metadata": {},
   "source": [
    "#### [실습] : 네이버 주식 데이터 가져오기 - read_html()\n",
    "* https://www.naver.com/ -> 증권 -> 국내증시 -> 시가총액\n",
    "    * https://finance.naver.com/sise/sise_market_sum.naver"
   ]
  },
  {
   "cell_type": "code",
   "execution_count": 15,
   "metadata": {},
   "outputs": [
    {
     "name": "stdout",
     "output_type": "stream",
     "text": [
      "Requirement already satisfied: html5lib in c:\\users\\moon\\appdata\\local\\programs\\python\\python311\\lib\\site-packages (1.1)\n",
      "Requirement already satisfied: lxml in c:\\users\\moon\\appdata\\local\\programs\\python\\python311\\lib\\site-packages (5.1.0)\n",
      "Requirement already satisfied: six>=1.9 in c:\\users\\moon\\appdata\\local\\programs\\python\\python311\\lib\\site-packages (from html5lib) (1.16.0)\n",
      "Requirement already satisfied: webencodings in c:\\users\\moon\\appdata\\local\\programs\\python\\python311\\lib\\site-packages (from html5lib) (0.5.1)\n"
     ]
    }
   ],
   "source": [
    "!pip install html5lib  lxml"
   ]
  },
  {
   "cell_type": "code",
   "execution_count": 17,
   "metadata": {},
   "outputs": [
    {
     "name": "stdout",
     "output_type": "stream",
     "text": [
      "\n",
      "      0      1          2        3          4       5\n",
      "0  거래량   매수호가   거래대금(백만)  시가총액(억)    영업이익(억)  PER(배)\n",
      "1   시가   매도호가      전일거래량  자산총계(억)    영업이익증가율  ROE(%)\n",
      "2   고가  매수총잔량      외국인비율  부채총계(억)   당기순이익(억)  ROA(%)\n",
      "3   저가  매도총잔량  상장주식수(천주)   매출액(억)   주당순이익(원)  PBR(배)\n",
      "4  NaN    NaN        NaN   매출액증가율  보통주배당금(원)  유보율(%)\n",
      "\n",
      "      N       종목명       현재가      전일비     등락률     액면가       시가총액      상장주식수  \\\n",
      "0  NaN       NaN       NaN      NaN     NaN     NaN        NaN        NaN   \n",
      "1  1.0      삼성전자   84100.0    900.0  -1.06%   100.0  5020587.0  5969783.0   \n",
      "2  2.0    SK하이닉스  179200.0   7100.0  -3.81%  5000.0  1304580.0   728002.0   \n",
      "3  3.0  LG에너지솔루션  376000.0  17000.0  -4.33%   500.0   879840.0   234000.0   \n",
      "4  4.0  삼성바이오로직스  812000.0   4000.0  -0.49%  2500.0   577933.0    71174.0   \n",
      "\n",
      "   외국인비율         거래량    PER    ROE  토론실  \n",
      "0    NaN         NaN    NaN    NaN  NaN  \n",
      "1  55.57  30136601.0  39.47   4.15  NaN  \n",
      "2  54.69   5082907.0 -14.32 -15.61  NaN  \n",
      "3   4.97    364327.0  71.12   6.36  NaN  \n",
      "4  11.99     50553.0  67.38   9.12  NaN  \n",
      "\n",
      "    0   1   2   3   4   5   6   7   8   9   10  11\n",
      "0   1   2   3   4   5   6   7   8   9  10  다음  맨뒤\n"
     ]
    },
    {
     "name": "stderr",
     "output_type": "stream",
     "text": [
      "C:\\Users\\moon\\AppData\\Local\\Programs\\Python\\Python311\\Lib\\site-packages\\bs4\\__init__.py:228: UserWarning: You provided Unicode markup but also provided a value for from_encoding. Your from_encoding will be ignored.\n",
      "  warnings.warn(\"You provided Unicode markup but also provided a value for from_encoding. Your from_encoding will be ignored.\")\n"
     ]
    }
   ],
   "source": [
    "import pandas as pd\n",
    "\n",
    "# 'euc-kr' 또는 'cp949'로 인코딩 설정하여 페이지 읽기 시도\n",
    "df_list = pd.read_html(\"https://finance.naver.com/sise/sise_market_sum.naver\",encoding='cp949')\n",
    "type(df_list)\n",
    "# 데이터프레임 확인\n",
    "for df in df_list:\n",
    "    print(\"\\n\", df.head())\n"
   ]
  },
  {
   "cell_type": "code",
   "execution_count": 18,
   "metadata": {},
   "outputs": [],
   "source": [
    "# 데이터프레임 가공 - 종목명에 NaN이 있는 행은 제거 \n",
    "df = df_list[1] #컬럼 인덱싱\n",
    "df.head(10)\n",
    "#boolean indexing\n",
    "df['종목명'] #1. 컬럼 추출 - Series\n",
    "df['종목명'].notnull() #2. 조건 색인\n",
    "data = df[df['종목명'].notnull()] # 3.조건색인을 넣어주기\n",
    "data\n",
    "data.head()\n",
    "#가공한 데이터프레임을 파일로 저장\n",
    "data.to_csv(\"examples/Naver_kospi.csv\")"
   ]
  },
  {
   "cell_type": "markdown",
   "metadata": {},
   "source": [
    "## 3.2 웹 스크래핑 - requests"
   ]
  },
  {
   "cell_type": "markdown",
   "metadata": {},
   "source": [
    "* 웹 페이지 정보 가져오기 - requests 패키지 이용\n",
    "  * requests.get()\n",
    "  * requests.get().status_code\n",
    "  * requests.get().text\n"
   ]
  },
  {
   "cell_type": "markdown",
   "metadata": {},
   "source": [
    "### [예제] 타겟 사이트의 json 구조로 저장된 데이터 가져오기"
   ]
  },
  {
   "cell_type": "code",
   "execution_count": 1,
   "metadata": {},
   "outputs": [
    {
     "name": "stdout",
     "output_type": "stream",
     "text": [
      "Requirement already satisfied: requests in c:\\users\\moon\\appdata\\local\\programs\\python\\python311\\lib\\site-packages (2.31.0)\n",
      "Requirement already satisfied: charset-normalizer<4,>=2 in c:\\users\\moon\\appdata\\local\\programs\\python\\python311\\lib\\site-packages (from requests) (3.2.0)\n",
      "Requirement already satisfied: idna<4,>=2.5 in c:\\users\\moon\\appdata\\local\\programs\\python\\python311\\lib\\site-packages (from requests) (3.4)\n",
      "Requirement already satisfied: urllib3<3,>=1.21.1 in c:\\users\\moon\\appdata\\local\\programs\\python\\python311\\lib\\site-packages (from requests) (2.0.4)\n",
      "Requirement already satisfied: certifi>=2017.4.17 in c:\\users\\moon\\appdata\\local\\programs\\python\\python311\\lib\\site-packages (from requests) (2023.7.22)\n"
     ]
    }
   ],
   "source": [
    "!pip install requests"
   ]
  },
  {
   "cell_type": "code",
   "execution_count": 13,
   "metadata": {},
   "outputs": [
    {
     "data": {
      "text/plain": [
       "dict"
      ]
     },
     "execution_count": 13,
     "metadata": {},
     "output_type": "execute_result"
    }
   ],
   "source": [
    "# 1. requests 모듈 임포트하기\n",
    "import requests\n",
    "import pandas as pd\n",
    "#2. url 가져오기\n",
    "url = \"https://api.github.com/repos/pandas-dev/pandas/issues\"\n",
    "# pd.read_html(url)\n",
    "# json 페이지를 가져오기\n",
    "resp = requests.get(url)\n",
    "type(resp)\n",
    "resp.status_code #200\n",
    "resp.text # 데이터 가져오기\n",
    "type(resp.text)\n",
    "# # 3. json 내용을 딕셔너리로 변환\n",
    "data = resp.json() # json의 내용을 딕셔너리 형태로 변환한 객체을 반환\n",
    "type(data)\n",
    "#len(data) dufsfuvhdj\n",
    "#data.keys()\n",
    "# print(type(data))\n",
    "# data[0]['title']\n",
    "# data[0].keys() # 키 정보 출력\n",
    "# # 4. 딕셔너리를 DataFrame으로 생성하기\n",
    "# issues = pd.DataFrame(data, columns=[\"number\", \"title\",\n",
    "#                                       \"labels\", \"state\"])\n",
    "# issues.head()"
   ]
  },
  {
   "cell_type": "markdown",
   "metadata": {},
   "source": [
    "### [문제] 네이버 블로그의 키워드 관련 검색 결과 텍스트 데이터 가져오기 - requests 모듈 사용시 한계점"
   ]
  },
  {
   "cell_type": "code",
   "execution_count": 16,
   "metadata": {},
   "outputs": [
    {
     "name": "stdout",
     "output_type": "stream",
     "text": [
      "200\n",
      "https://section.blog.naver.com/Search/Post.naver?pageNo=1&rangeType=ALL&orderBy=sim&keyword=%ED%8C%8C%EC%9D%B4%EC%8D%AC\n"
     ]
    }
   ],
   "source": [
    "import requests\n",
    "#url = \"https://section.blog.naver.com/Search/Post.naver?pageNo=1&rangeType=ALL&orderBy=sim&keyword=%ED%8C%8C%EC%9D%B4%EC%8D%AC\"\n",
    "\n",
    "params = {\n",
    "    'pageNo' : 1,\n",
    "    'rangeType' : 'ALL',\n",
    "    'orderBy' : 'sim',\n",
    "    'keyword' : '파이썬'\n",
    "}\n",
    "\n",
    "#pd.read_html(url)\n",
    "response = requests.get('https://section.blog.naver.com/Search/Post.naver?', params=params)\n",
    "\n",
    "print(response.status_code) # HTTP GET 방식으로 URL 파라미터 값 전달\n",
    "print(response.url) # status_code 는 응답코드\n",
    "#print(response.text) # text에는 HTML 코드"
   ]
  },
  {
   "cell_type": "markdown",
   "metadata": {},
   "source": [
    "## 3.3 웹 스크래핑 - beautifulsoup (다음주는 비대면수업)\n",
    "* 웹 페이지 정보 추출하기 - beautifulsoup 사용법 \n",
    "  * soup.select_one()\n",
    "  * soup.select()\n",
    "  * get_text()\n",
    "* 개발자 도구 사용"
   ]
  },
  {
   "cell_type": "markdown",
   "metadata": {},
   "source": [
    "### [문제] 네이버 지식iN의 검색어 관련 검색 결과 제목 가져오기\n",
    "* 타겟 웹 사이트 : https://kin.naver.com/search/list.naver?query=%ED%8C%8C%EC%9D%B4%EC%8D%AC"
   ]
  },
  {
   "cell_type": "code",
   "execution_count": 3,
   "metadata": {},
   "outputs": [
    {
     "name": "stdout",
     "output_type": "stream",
     "text": [
      "파이썬이 미래에 도움이 될까요?\n",
      "파이썬 사용\n",
      "웹개발공부와 파이썬공부\n",
      "맥북 파이썬 idel\n",
      "파이썬 질문\n",
      "파이썬과 자바\n",
      "파이썬 질문...\n",
      "파이썬 배우기\n",
      "파이썬강좌 독학할때 뭐보나요??\n",
      "파이썬독학할 때 어떻게 공부를... \n"
     ]
    }
   ],
   "source": [
    "import requests\n",
    "from bs4 import BeautifulSoup\n",
    "\n",
    "# 1. 타겟 웹사이트\n",
    "url = 'https://kin.naver.com/search/list.naver?query=%ED%8C%8C%EC%9D%B4%EC%8D%AC'\n",
    "\n",
    "response = requests.get(url)\n",
    "\n",
    "if response.status_code == 200:\n",
    "    # 웹 페이지 확인\n",
    "    html = response.text\n",
    "    # 4. html -> beautifulsoup 객체로 변환 : 원하는 데이터를 쉽게 추출\n",
    "    soup = BeautifulSoup(html, 'html.parser')\n",
    "\n",
    "    # 5. 데이터 추출 : 제목 한개 선택하여 텍스트 가져오기\n",
    "    ##s_content > div.section > ul > li:nth-child(1) > dl > dt > a                                    \n",
    "    title = soup.select_one('#s_content > div.section > ul > li:nth-child(1) > dl > dt > a')\n",
    "    #print(title)\n",
    "    #print(title.get_text())\n",
    "\n",
    "    # 6. 데이터 추출 :제목 여러 개 선택하여 텍스트 리스트 가져오기\n",
    "    # titles = soup.select('#s_content > div.section > ul > li:nth-child(n) > dl > dt > a')\n",
    "    # print(titles)\n",
    "    # 7. 제목의 텍스트를 반복적으로 적용하여 가져오기\n",
    "    for title in titles:\n",
    "        print(title.get_text())\n",
    "else : \n",
    "    print(response.status_code)\n",
    "\n"
   ]
  },
  {
   "cell_type": "markdown",
   "metadata": {},
   "source": [
    "## 3.4 웹 스크래핑 - Selenium을 이용하여 사이트 자동화하기\n",
    "* https://selenium-python.readhedocs.io/\n",
    "* selenium 사용법\n",
    "  1. 시스템의 OS 및 Chrome 브라우저의 버전 확인\n",
    "  2. Chrome 드라이버 다운로드 및 설치\n",
    "  3. 크롬 드라이버을 프로젝트 폴더에 저장 - 크롬 드라이버의 설치 경로\n",
    "     * from selenium import webdriver\n",
    "     * driver = webdriver.Chrome()\n",
    "* 동적으로 웹 페이지 정보 추출하기\n",
    "     * driver.get(\"웹주소\") "
   ]
  },
  {
   "cell_type": "markdown",
   "metadata": {},
   "source": [
    "### [예제]### [예제] Selenium을 이용하여 자동으로 타겟 웹 사이트 실행하기\n",
    "* 타겟 사이트 : https://www.google.com"
   ]
  },
  {
   "cell_type": "code",
   "execution_count": 4,
   "metadata": {
    "scrolled": true
   },
   "outputs": [
    {
     "name": "stdout",
     "output_type": "stream",
     "text": [
      "Requirement already satisfied: selenium in c:\\users\\moon\\appdata\\local\\programs\\python\\python311\\lib\\site-packages (4.19.0)\n",
      "Requirement already satisfied: urllib3<3,>=1.26 in c:\\users\\moon\\appdata\\local\\programs\\python\\python311\\lib\\site-packages (from urllib3[socks]<3,>=1.26->selenium) (2.0.4)\n",
      "Requirement already satisfied: trio~=0.17 in c:\\users\\moon\\appdata\\local\\programs\\python\\python311\\lib\\site-packages (from selenium) (0.25.0)\n",
      "Requirement already satisfied: trio-websocket~=0.9 in c:\\users\\moon\\appdata\\local\\programs\\python\\python311\\lib\\site-packages (from selenium) (0.11.1)\n",
      "Requirement already satisfied: certifi>=2021.10.8 in c:\\users\\moon\\appdata\\local\\programs\\python\\python311\\lib\\site-packages (from selenium) (2023.7.22)\n",
      "Requirement already satisfied: typing_extensions>=4.9.0 in c:\\users\\moon\\appdata\\local\\programs\\python\\python311\\lib\\site-packages (from selenium) (4.10.0)\n",
      "Requirement already satisfied: attrs>=23.2.0 in c:\\users\\moon\\appdata\\local\\programs\\python\\python311\\lib\\site-packages (from trio~=0.17->selenium) (23.2.0)\n",
      "Requirement already satisfied: sortedcontainers in c:\\users\\moon\\appdata\\local\\programs\\python\\python311\\lib\\site-packages (from trio~=0.17->selenium) (2.4.0)\n",
      "Requirement already satisfied: idna in c:\\users\\moon\\appdata\\local\\programs\\python\\python311\\lib\\site-packages (from trio~=0.17->selenium) (3.4)\n",
      "Requirement already satisfied: outcome in c:\\users\\moon\\appdata\\local\\programs\\python\\python311\\lib\\site-packages (from trio~=0.17->selenium) (1.3.0.post0)\n",
      "Requirement already satisfied: sniffio>=1.3.0 in c:\\users\\moon\\appdata\\local\\programs\\python\\python311\\lib\\site-packages (from trio~=0.17->selenium) (1.3.0)\n",
      "Requirement already satisfied: cffi>=1.14 in c:\\users\\moon\\appdata\\local\\programs\\python\\python311\\lib\\site-packages (from trio~=0.17->selenium) (1.15.1)\n",
      "Requirement already satisfied: wsproto>=0.14 in c:\\users\\moon\\appdata\\local\\programs\\python\\python311\\lib\\site-packages (from trio-websocket~=0.9->selenium) (1.2.0)\n",
      "Requirement already satisfied: pysocks!=1.5.7,<2.0,>=1.5.6 in c:\\users\\moon\\appdata\\local\\programs\\python\\python311\\lib\\site-packages (from urllib3[socks]<3,>=1.26->selenium) (1.7.1)\n",
      "Requirement already satisfied: pycparser in c:\\users\\moon\\appdata\\local\\programs\\python\\python311\\lib\\site-packages (from cffi>=1.14->trio~=0.17->selenium) (2.21)\n",
      "Requirement already satisfied: h11<1,>=0.9.0 in c:\\users\\moon\\appdata\\local\\programs\\python\\python311\\lib\\site-packages (from wsproto>=0.14->trio-websocket~=0.9->selenium) (0.14.0)\n"
     ]
    }
   ],
   "source": [
    "!pip install selenium"
   ]
  },
  {
   "cell_type": "code",
   "execution_count": 8,
   "metadata": {},
   "outputs": [],
   "source": [
    "from selenium import webdriver\n",
    "# 1.  Chrome 브라우저 실행\n",
    "driver = webdriver.Chrome()  # 크롬 드라이버 실행파일의 위치 - 작업디렉터리 \n",
    "# 2. 웹페이지 로딩\n",
    "url = \"https://www.google.com\"\n",
    "driver.get(url)\n",
    "\n",
    "#3. 타겟 브라우저 종료\n",
    "driver.quit()"
   ]
  },
  {
   "cell_type": "markdown",
   "metadata": {},
   "source": [
    "### [문제] Selenium을 이용하여 자동으로 타겟 웹 사이트 실행하기/검색하기/검색 결과 출력하기\r",
    "* \n",
    "타겟 사이트: https://www.google.co\n",
    "* driver.find_element()\n",
    "* send_keys()m"
   ]
  },
  {
   "cell_type": "code",
   "execution_count": 16,
   "metadata": {},
   "outputs": [
    {
     "name": "stdout",
     "output_type": "stream",
     "text": [
      "제목: OpenAI\n",
      "URL: https://openai.com/\n",
      "제목: OpenAI\n",
      "URL: https://openai.com/\n",
      "제목: OpenAI\n",
      "URL: https://namu.wiki/w/OpenAI\n",
      "제목: OpenAI\n",
      "URL: https://en.wikipedia.org/wiki/OpenAI\n",
      "제목: OpenAI\n",
      "URL: https://www.youtube.com/@OpenAI\n",
      "제목: OpenAI\n",
      "URL: https://twitter.com/OpenAI\n",
      "제목: OpenAI\n",
      "URL: https://www.linkedin.com/company/openai\n",
      "제목: 설명\n",
      "URL: https://www.google.com/search?q=OpenAI&sca_esv=f7e7867956c72750&source=hp&ei=bjUWZpLJD9m-vr0Pg7mLgAo&iflsig=ANes7DEAAAAAZhZDfqHX5gj9LZS2bdvo6V2kjxHpFUJM&udm=&ved=0ahUKEwiSuKaGhreFAxVZn68BHYPcAqAQ4dUDCBA&uact=5&oq=OpenAI&gs_lp=Egdnd3Mtd2l6IgZPcGVuQUlIL1AAWBRwAHgAkAEAmAEAoAEAqgEAuAEDyAEA-AEBmAIAoAIAmAMAkgcAoAcA&sclient=gws-wiz#\n"
     ]
    }
   ],
   "source": [
    "from selenium import webdriver\n",
    "from selenium.webdriver.common.by import By\n",
    "from selenium.webdriver.common.keys import Keys\n",
    "import time\n",
    "\n",
    "# 1. Chrome 브라우저 실행\n",
    "driver = webdriver.Chrome()\n",
    "\n",
    "# 2. 타겟 Google 홈페이지 열기\n",
    "url = \"https://www.google.com\"\n",
    "driver.get(url)\n",
    "\n",
    "# 3. 페이지가 완전히 로드될 때까지 2초 대기\n",
    "time.sleep(2)\n",
    "\n",
    "# 4. 검색 기능 - 검색창 -> 검색어 입력 -> 엔터 키로 클릭 처리\n",
    "\n",
    "try:\n",
    "    # 4-1 검색 상자 요소 찾기\n",
    "    search_box = driver.find_element(By.NAME, \"q\")\n",
    "\n",
    "    # 4-2 검색어 입력\n",
    "    search_query = \"OpenAI\"\n",
    "    search_box.send_keys(search_query)\n",
    "\n",
    "    # 4-3 Enter 키를 눌러 검색 수행\n",
    "    search_box.send_keys(Keys.RETURN)\n",
    "\n",
    "    # 4-4 검색 결과가 로드될 때까지 5초 대기 --> 너무 길어서 2초로 수정\n",
    "    time.sleep(2)\n",
    "\n",
    "    # 5.검색에 관련된 결과 추출\n",
    "    search_results = driver.find_elements(By.CSS_SELECTOR, \"div.g\")\n",
    "    \n",
    "    # # 5-1 첫 번째 제목과 링크 url 추출\n",
    "    # search_results = driver.find_elements(By.CSS_SELECTOR, \"div.g\") \n",
    "    # title = search_results[0].find_element(By.CSS_SELECTOR, \"h3\").text\n",
    "    # url = search_results[0].find_element(By.CSS_SELECTOR, \"a\").get_attribute(\"href\")\n",
    "    # print(\"제목:\", title)\n",
    "    # print(\"URL:\", url)\n",
    "    \n",
    "    #5-2  검색 결과의 모든 제목과 URL 인쇄\n",
    "    for result in search_results:\n",
    "        title = result.find_element(By.CSS_SELECTOR, \"h3\").text\n",
    "        url = result.find_element(By.CSS_SELECTOR, \"a\").get_attribute(\"href\")\n",
    "        print(\"제목:\", title)\n",
    "        print(\"URL:\", url)\n",
    "   \n",
    "    # for result in search_results:\n",
    "    #     title = result.find_element(By.CSS_SELECTOR, \"h3\").text\n",
    "    #     url = result.find_element(By.CSS_SELECTOR, \"a\").get_attribute(\"href\")\n",
    "    #     print(\"제목:\", title)\n",
    "    #     print(\"URL:\", url)\n",
    "    #     print()\n",
    "\n",
    "except Exception as e:\n",
    "    print(\"오류가 발생했습니다:\", e)\n",
    "\n",
    "finally:\n",
    "    # 브라우저 창 닫기\n",
    "    driver.quit()\n",
    "#finally 는 자동 콜로로가 정상적으로 확인하고 실행시킴 "
   ]
  },
  {
   "cell_type": "markdown",
   "metadata": {},
   "source": [
    "[문제] Selenium을 이용하여 네이버 증권 웹페이지 열기/ 삼성전자 일별 시세 HTML가져오기/ 10페이지 내역 테이블 데이터 찾기/검색 결과를 데이터프레임으로 변환/저장하기\n",
    "타겟 사이트: https://finance.naver.com/item/sise.naver?code=005930*\n"
   ]
  },
  {
   "cell_type": "code",
   "execution_count": 17,
   "metadata": {},
   "outputs": [],
   "source": [
    "from selenium import webdriver\n",
    "from bs4 import BeautifulSoup\n",
    "import pandas as pd\n",
    "import time"
   ]
  },
  {
   "cell_type": "code",
   "execution_count": 23,
   "metadata": {},
   "outputs": [
    {
     "name": "stderr",
     "output_type": "stream",
     "text": [
      "C:\\Users\\moon\\AppData\\Local\\Temp\\ipykernel_17080\\3146373635.py:23: FutureWarning: Passing literal html to 'read_html' is deprecated and will be removed in a future version. To read from a literal string, wrap it in a 'StringIO' object.\n",
      "  df = pd.read_html(html)\n",
      "C:\\Users\\moon\\AppData\\Local\\Temp\\ipykernel_17080\\3146373635.py:23: FutureWarning: Passing literal html to 'read_html' is deprecated and will be removed in a future version. To read from a literal string, wrap it in a 'StringIO' object.\n",
      "  df = pd.read_html(html)\n",
      "C:\\Users\\moon\\AppData\\Local\\Temp\\ipykernel_17080\\3146373635.py:23: FutureWarning: Passing literal html to 'read_html' is deprecated and will be removed in a future version. To read from a literal string, wrap it in a 'StringIO' object.\n",
      "  df = pd.read_html(html)\n"
     ]
    },
    {
     "name": "stdout",
     "output_type": "stream",
     "text": [
      "[            날짜       종가     전일비       시가       고가       저가         거래량\n",
      "0          NaN      NaN     NaN      NaN      NaN      NaN         NaN\n",
      "1   2024.04.09  83600.0   900.0  84500.0  84900.0  83100.0  18342168.0\n",
      "2   2024.04.08  84500.0     0.0  85200.0  86000.0  84500.0  18953232.0\n",
      "3   2024.04.05  84500.0   800.0  84500.0  85000.0  83800.0  18883752.0\n",
      "4   2024.04.04  85300.0  1200.0  85200.0  85500.0  84300.0  25248934.0\n",
      "5   2024.04.03  84100.0   900.0  84300.0  85000.0  83500.0  30493347.0\n",
      "6          NaN      NaN     NaN      NaN      NaN      NaN         NaN\n",
      "7          NaN      NaN     NaN      NaN      NaN      NaN         NaN\n",
      "8          NaN      NaN     NaN      NaN      NaN      NaN         NaN\n",
      "9   2024.04.02  85000.0  3000.0  82900.0  85000.0  82900.0  37077944.0\n",
      "10  2024.04.01  82000.0   400.0  83200.0  83300.0  82000.0  20116513.0\n",
      "11  2024.03.29  82400.0  1600.0  81200.0  82500.0  80900.0  27126366.0\n",
      "12  2024.03.28  80800.0  1000.0  79400.0  81000.0  79200.0  25084812.0\n",
      "13  2024.03.27  79800.0   100.0  79200.0  80000.0  79200.0  17424595.0\n",
      "14         NaN      NaN     NaN      NaN      NaN      NaN         NaN,    0   1   2   3   4   5   6   7   8   9   10  11\n",
      "0   1   2   3   4   5   6   7   8   9  10  다음  맨뒤]\n",
      "[            날짜       종가     전일비       시가       고가       저가         거래량\n",
      "0          NaN      NaN     NaN      NaN      NaN      NaN         NaN\n",
      "1   2024.03.26  79900.0  1700.0  79700.0  80100.0  79200.0  30551494.0\n",
      "2   2024.03.25  78200.0   700.0  79600.0  79800.0  77800.0  18703996.0\n",
      "3   2024.03.22  78900.0   400.0  79600.0  79900.0  77800.0  26724761.0\n",
      "4   2024.03.21  79300.0  2400.0  79200.0  79300.0  77700.0  44569799.0\n",
      "5   2024.03.20  76900.0  4100.0  73700.0  77200.0  73400.0  50106297.0\n",
      "6          NaN      NaN     NaN      NaN      NaN      NaN         NaN\n",
      "7          NaN      NaN     NaN      NaN      NaN      NaN         NaN\n",
      "8          NaN      NaN     NaN      NaN      NaN      NaN         NaN\n",
      "9   2024.03.19  72800.0     0.0  72300.0  73000.0  71700.0  15376066.0\n",
      "10  2024.03.18  72800.0   500.0  72600.0  73000.0  72500.0  11520348.0\n",
      "11  2024.03.15  72300.0  2000.0  73400.0  73700.0  72300.0  22580555.0\n",
      "12  2024.03.14  74300.0   200.0  74400.0  74500.0  73600.0  22545539.0\n",
      "13  2024.03.13  74100.0   800.0  73700.0  74100.0  73500.0  15243134.0\n",
      "14         NaN      NaN     NaN      NaN      NaN      NaN         NaN,    0   1   2   3   4   5   6   7   8   9   10  11  12\n",
      "0  맨앞   1   2   3   4   5   6   7   8   9  10  다음  맨뒤]\n",
      "[            날짜       종가     전일비       시가       고가       저가         거래량\n",
      "0          NaN      NaN     NaN      NaN      NaN      NaN         NaN\n",
      "1   2024.03.12  73300.0   900.0  72600.0  73500.0  72100.0  13011654.0\n",
      "2   2024.03.11  72400.0   900.0  72900.0  73100.0  72300.0   9740504.0\n",
      "3   2024.03.08  73300.0  1100.0  72800.0  73400.0  72600.0  19271349.0\n",
      "4   2024.03.07  72200.0   700.0  73100.0  73300.0  72200.0  14516963.0\n",
      "5   2024.03.06  72900.0   800.0  73200.0  73500.0  72700.0  21547905.0\n",
      "6          NaN      NaN     NaN      NaN      NaN      NaN         NaN\n",
      "7          NaN      NaN     NaN      NaN      NaN      NaN         NaN\n",
      "8          NaN      NaN     NaN      NaN      NaN      NaN         NaN\n",
      "9   2024.03.05  73700.0  1200.0  74600.0  74800.0  73700.0  19505125.0\n",
      "10  2024.03.04  74900.0  1500.0  74300.0  75000.0  74000.0  23210474.0\n",
      "11  2024.02.29  73400.0   200.0  72600.0  73400.0  72000.0  21176403.0\n",
      "12  2024.02.28  73200.0   300.0  72900.0  73900.0  72800.0  11795859.0\n",
      "13  2024.02.27  72900.0   100.0  73100.0  73400.0  72700.0  13201981.0\n",
      "14         NaN      NaN     NaN      NaN      NaN      NaN         NaN,    0   1   2   3   4   5   6   7   8   9   10  11  12\n",
      "0  맨앞   1   2   3   4   5   6   7   8   9  10  다음  맨뒤]\n",
      "[            날짜       종가     전일비       시가       고가       저가         거래량\n",
      "0          NaN      NaN     NaN      NaN      NaN      NaN         NaN\n",
      "1   2024.02.26  72800.0   100.0  72300.0  73200.0  72200.0  14669352.0\n",
      "2   2024.02.23  72900.0   200.0  73600.0  74200.0  72900.0  16225166.0\n",
      "3   2024.02.22  73100.0   100.0  73800.0  73900.0  72700.0  15208934.0\n",
      "4   2024.02.21  73000.0   300.0  73400.0  73700.0  72900.0  11503495.0\n",
      "5   2024.02.20  73300.0   500.0  73700.0  73700.0  72800.0  14681477.0\n",
      "6          NaN      NaN     NaN      NaN      NaN      NaN         NaN\n",
      "7          NaN      NaN     NaN      NaN      NaN      NaN         NaN\n",
      "8          NaN      NaN     NaN      NaN      NaN      NaN         NaN\n",
      "9   2024.02.19  73800.0  1000.0  72800.0  73900.0  72800.0  12726404.0\n",
      "10  2024.02.16  72800.0   200.0  73300.0  73400.0  72500.0  13444781.0\n",
      "11  2024.02.15  73000.0  1000.0  74200.0  74400.0  73000.0  14120600.0\n",
      "12  2024.02.14  74000.0  1200.0  73700.0  74300.0  73700.0  12434945.0\n",
      "13  2024.02.13  75200.0  1100.0  74800.0  75200.0  74400.0  21966745.0\n",
      "14         NaN      NaN     NaN      NaN      NaN      NaN         NaN,    0   1   2   3   4   5   6   7   8   9   10  11  12\n",
      "0  맨앞   1   2   3   4   5   6   7   8   9  10  다음  맨뒤]\n",
      "[            날짜       종가     전일비       시가       고가       저가         거래량\n",
      "1   2024.04.09  83600.0   900.0  84500.0  84900.0  83100.0  18342168.0\n",
      "2   2024.04.08  84500.0     0.0  85200.0  86000.0  84500.0  18953232.0\n",
      "3   2024.04.05  84500.0   800.0  84500.0  85000.0  83800.0  18883752.0\n",
      "4   2024.04.04  85300.0  1200.0  85200.0  85500.0  84300.0  25248934.0\n",
      "5   2024.04.03  84100.0   900.0  84300.0  85000.0  83500.0  30493347.0\n",
      "9   2024.04.02  85000.0  3000.0  82900.0  85000.0  82900.0  37077944.0\n",
      "10  2024.04.01  82000.0   400.0  83200.0  83300.0  82000.0  20116513.0\n",
      "11  2024.03.29  82400.0  1600.0  81200.0  82500.0  80900.0  27126366.0\n",
      "12  2024.03.28  80800.0  1000.0  79400.0  81000.0  79200.0  25084812.0\n",
      "13  2024.03.27  79800.0   100.0  79200.0  80000.0  79200.0  17424595.0,             날짜       종가     전일비       시가       고가       저가         거래량\n",
      "1   2024.03.26  79900.0  1700.0  79700.0  80100.0  79200.0  30551494.0\n",
      "2   2024.03.25  78200.0   700.0  79600.0  79800.0  77800.0  18703996.0\n",
      "3   2024.03.22  78900.0   400.0  79600.0  79900.0  77800.0  26724761.0\n",
      "4   2024.03.21  79300.0  2400.0  79200.0  79300.0  77700.0  44569799.0\n",
      "5   2024.03.20  76900.0  4100.0  73700.0  77200.0  73400.0  50106297.0\n",
      "9   2024.03.19  72800.0     0.0  72300.0  73000.0  71700.0  15376066.0\n",
      "10  2024.03.18  72800.0   500.0  72600.0  73000.0  72500.0  11520348.0\n",
      "11  2024.03.15  72300.0  2000.0  73400.0  73700.0  72300.0  22580555.0\n",
      "12  2024.03.14  74300.0   200.0  74400.0  74500.0  73600.0  22545539.0\n",
      "13  2024.03.13  74100.0   800.0  73700.0  74100.0  73500.0  15243134.0,             날짜       종가     전일비       시가       고가       저가         거래량\n",
      "1   2024.03.12  73300.0   900.0  72600.0  73500.0  72100.0  13011654.0\n",
      "2   2024.03.11  72400.0   900.0  72900.0  73100.0  72300.0   9740504.0\n",
      "3   2024.03.08  73300.0  1100.0  72800.0  73400.0  72600.0  19271349.0\n",
      "4   2024.03.07  72200.0   700.0  73100.0  73300.0  72200.0  14516963.0\n",
      "5   2024.03.06  72900.0   800.0  73200.0  73500.0  72700.0  21547905.0\n",
      "9   2024.03.05  73700.0  1200.0  74600.0  74800.0  73700.0  19505125.0\n",
      "10  2024.03.04  74900.0  1500.0  74300.0  75000.0  74000.0  23210474.0\n",
      "11  2024.02.29  73400.0   200.0  72600.0  73400.0  72000.0  21176403.0\n",
      "12  2024.02.28  73200.0   300.0  72900.0  73900.0  72800.0  11795859.0\n",
      "13  2024.02.27  72900.0   100.0  73100.0  73400.0  72700.0  13201981.0,             날짜       종가     전일비       시가       고가       저가         거래량\n",
      "1   2024.02.26  72800.0   100.0  72300.0  73200.0  72200.0  14669352.0\n",
      "2   2024.02.23  72900.0   200.0  73600.0  74200.0  72900.0  16225166.0\n",
      "3   2024.02.22  73100.0   100.0  73800.0  73900.0  72700.0  15208934.0\n",
      "4   2024.02.21  73000.0   300.0  73400.0  73700.0  72900.0  11503495.0\n",
      "5   2024.02.20  73300.0   500.0  73700.0  73700.0  72800.0  14681477.0\n",
      "9   2024.02.19  73800.0  1000.0  72800.0  73900.0  72800.0  12726404.0\n",
      "10  2024.02.16  72800.0   200.0  73300.0  73400.0  72500.0  13444781.0\n",
      "11  2024.02.15  73000.0  1000.0  74200.0  74400.0  73000.0  14120600.0\n",
      "12  2024.02.14  74000.0  1200.0  73700.0  74300.0  73700.0  12434945.0\n",
      "13  2024.02.13  75200.0  1100.0  74800.0  75200.0  74400.0  21966745.0]\n"
     ]
    },
    {
     "name": "stderr",
     "output_type": "stream",
     "text": [
      "C:\\Users\\moon\\AppData\\Local\\Temp\\ipykernel_17080\\3146373635.py:23: FutureWarning: Passing literal html to 'read_html' is deprecated and will be removed in a future version. To read from a literal string, wrap it in a 'StringIO' object.\n",
      "  df = pd.read_html(html)\n"
     ]
    }
   ],
   "source": [
    "#1. 크롬 드라이버 실행\n",
    "driver= webdriver.Chrome()\n",
    "\n",
    "# 2페이지 로딩 시간\n",
    "time.sleep(2)\n",
    "\n",
    "# 3. 크롤링 사이트 : 삼성전자의 일별 시세 페이지 URL 찾기\n",
    "samsung_url =\"https://finance.naver.com/item/sise_day.naver?code=005930&page=\" #base url\n",
    "\n",
    "# # 4. 페이지 요청\n",
    "# driver.get(samsum_url)\n",
    "\n",
    "# 4. 첫 페이지부터 3 페이지까지 데이블 담기\n",
    "samsung_daily_kospi = [] # 리스트 선언\n",
    "for num in range(1,5):\n",
    "    full_url = samsung_url + str(num)\n",
    "    # 4.1 해당 페이지 요청\n",
    "    driver.get(full_url)\n",
    "    \n",
    "    try:\n",
    "        # 4.2 페이지의 HTML 가져오기\n",
    "        html = driver.page_source\n",
    "        df = pd.read_html(html)\n",
    "        print(df)\n",
    "        # 4.3 결측치 처리 - 조건 색인을 이용한 불리언 인덱싱\n",
    "        ## 조건 색인 인덱싱\n",
    "        cond = df[0]['날짜'].notnull()\n",
    "        samsung_day = df[0][cond]\n",
    "        ## 리스트에 담기\n",
    "        samsung_daily_kospi.append(samsung_day)       \n",
    "        \n",
    "    except Exception as e:\n",
    "        print(\"Network Error\",e)\n",
    "    \n",
    "    # finally:\n",
    "    #    driver.quit()\n",
    "\n",
    "print(samsung_daily_kospi)\n",
    "samsung_daily_kospi_all = pd.concat(samsung_daily_kospi) # 데이터프레임 합치기 \n",
    "samsung_daily_kospi_all.to_csv(\"examples/samsung_daily_kospi_2024_2020.csv\")\n"
   ]
  },
  {
   "cell_type": "code",
   "execution_count": null,
   "metadata": {},
   "outputs": [],
   "source": []
  }
 ],
 "metadata": {
  "kernelspec": {
   "display_name": "Python 3 (ipykernel)",
   "language": "python",
   "name": "python3"
  },
  "language_info": {
   "codemirror_mode": {
    "name": "ipython",
    "version": 3
   },
   "file_extension": ".py",
   "mimetype": "text/x-python",
   "name": "python",
   "nbconvert_exporter": "python",
   "pygments_lexer": "ipython3",
   "version": "3.11.4"
  }
 },
 "nbformat": 4,
 "nbformat_minor": 4
}
